{
 "cells": [
  {
   "cell_type": "markdown",
   "id": "55498a17",
   "metadata": {},
   "source": [
    "Take any csv/text file of 2+ GB of your choice. --- (You can do this assignment on Google colab)\n",
    "\n",
    "Read the file ( Present approach of reading the file )\n",
    "\n",
    "Try different methods of file reading eg: Dask, Modin, Ray, pandas and present your findings in term of computational efficiency\n",
    "\n",
    "Perform basic validation on data columns : eg: remove special character , white spaces from the col name\n",
    "\n",
    "As you already know the schema hence create a YAML file and write the column name in YAML file. --define separator of read and write file, column name in YAML\n",
    "\n",
    "Validate number of columns and column name of ingested file with YAML.\n",
    "\n",
    "Write the file in pipe separated text file (|) in gz format.\n",
    "\n",
    "Create a summary of the file:\n",
    "\n",
    "Total number of rows,\n",
    "\n",
    "total number of columns\n",
    "\n",
    "file size\n"
   ]
  },
  {
   "cell_type": "code",
   "execution_count": 109,
   "id": "b231f388",
   "metadata": {},
   "outputs": [
    {
     "name": "stdout",
     "output_type": "stream",
     "text": [
      "reading time for a CSV file in pandas:  0.09613394737243652 sec\n",
      "reading time for a CSV file in Dask:  0.9768166542053223 sec\n"
     ]
    },
    {
     "name": "stderr",
     "output_type": "stream",
     "text": [
      "2023-08-13 01:35:27,894\tINFO read_api.py:374 -- To satisfy the requested parallelism of 200, each read task output will be split into 50 smaller blocks.\n"
     ]
    },
    {
     "name": "stdout",
     "output_type": "stream",
     "text": [
      "reading time for a CSV file in Ray:  2.0164434909820557 sec\n"
     ]
    }
   ],
   "source": [
    "import pandas as pd \n",
    "import dask.dataframe as dd\n",
    "import modin.pandas as mpd\n",
    "import ray.data as rd\n",
    "import ray\n",
    "import os\n",
    "import time\n",
    "\n",
    "#Calculating the size of the file\n",
    "os.path.getsize('C:/Users/yomna/week6/Parking_Violations_Year_2016.csv')\n",
    "\n",
    "#Reading Using Pandas \n",
    "start = time.time()\n",
    "pd_df = pd.read_csv('C:/Users/yomna/week6/Parking_Violations_Year_2016.csv')\n",
    "end = time.time()\n",
    "print(\"reading time for a CSV file in pandas: \",(end-start),\"sec\")\n",
    "\n",
    "\n",
    "#Reading using Dask\n",
    "start = time.time()\n",
    "dd_df = dd.read_csv('C:/Users/yomna/week6/Parking_Violations_Year_2016.csv')\n",
    "end = time.time()\n",
    "print(\"reading time for a CSV file in Dask: \",(end-start),\"sec\")\n",
    "\n",
    "#Reading Using Modin\n",
    "ray.init()\n",
    "start = time.time()\n",
    "mpd_df = mpd.read_csv('C:/Users/yomna/week6/Parking_Violations_Year_2016.csv')\n",
    "emd = time.time()\n",
    "print(\"reading time for a CSV file in Modin: \",(end-start),\"sec\")\n",
    "mpd.shutdown_ray()\n",
    "\n",
    "#Reading Using Ray\n",
    "start = time.time()\n",
    "df = rd.read_csv('C:/Users/yomna/week6/Parking_Violations_Year_2016.csv')\n",
    "end = time.time()\n",
    "print(\"reading time for a CSV file in Ray: \",(end-start),\"sec\")\n"
   ]
  },
  {
   "cell_type": "code",
   "execution_count": 47,
   "id": "2bdcf872",
   "metadata": {},
   "outputs": [
    {
     "name": "stdout",
     "output_type": "stream",
     "text": [
      "Index(['SummonsNumber', 'PlateID', 'RegistrationState', 'PlateType',\n",
      "       'IssueDate', 'ViolationCode', 'VehicleBodyType', 'VehicleMake',\n",
      "       'IssuingAgency', 'StreetCode1', 'StreetCode2', 'StreetCode3',\n",
      "       'VehicleExpirationDate', 'ViolationLocation', 'ViolationPrecinct',\n",
      "       'IssuerPrecinct', 'IssuerCode', 'IssuerCommand', 'IssuerSquad',\n",
      "       'ViolationTime', 'TimeFirstObserved', 'ViolationCounty',\n",
      "       'ViolationInFrontOfOrOpposite', 'HouseNumber', 'StreetName',\n",
      "       'IntersectingStreet', 'DateFirstObserved', 'LawSection', 'SubDivision',\n",
      "       'ViolationLegalCode', 'DaysParkingInEffect', 'FromHoursInEffect',\n",
      "       'ToHoursInEffect', 'VehicleColor', 'UnregisteredVehicle?',\n",
      "       'VehicleYear', 'MeterNumber', 'FeetFromCurb', 'ViolationPostCode',\n",
      "       'ViolationDescription', 'NoStandingorStoppingViolation',\n",
      "       'HydrantViolation', 'DoubleParkingViolation', 'Latitude', 'Longitude',\n",
      "       'CommunityBoard', 'CommunityCouncil', 'CensusTract', 'BIN', 'BBL',\n",
      "       'NTA'],\n",
      "      dtype='object')\n"
     ]
    }
   ],
   "source": [
    "#Delete special characters names and white spaces in columns\n",
    "dd_df.columns = dd_df.columns.str.replace('?,@,#,$,%,&,*', ' ')\n",
    "dd_df.columns = dd_df.columns.str.replace(' ', '')\n",
    "\n",
    "#Print the updated column names\n",
    "print(dd_df.columns)"
   ]
  },
  {
   "cell_type": "code",
   "execution_count": null,
   "id": "ec0e4893",
   "metadata": {},
   "outputs": [],
   "source": []
  },
  {
   "cell_type": "code",
   "execution_count": 120,
   "id": "9267f3f0",
   "metadata": {},
   "outputs": [
    {
     "name": "stdout",
     "output_type": "stream",
     "text": [
      "Writing park_file.yaml\n"
     ]
    }
   ],
   "source": [
    "%%writefile park_file.yaml\n",
    "file_type: csv\n",
    "dataset_name: Parking_Violations_Year_2016.csv\n",
    "file_name: Parking_Violations_Year_2016.csv\n",
    "table_name: edsurv\n",
    "inbound_delimiter: \",\"\n",
    "outbound_delimiter: \"|\"\n",
    "skip_leading_rows: 1\n",
    "columns: \n",
    "    - SummonsNumber\n",
    "    - PlateID\n",
    "    - RegistrationState\n",
    "    - PlateType\n",
    "    - IssueDate\n",
    "    - ViolationCode\n",
    "    - VehicleBodyType\n",
    "    - VehicleMake\n",
    "    - IssuingAgency\n",
    "    - StreetCode1\n",
    "    - StreetCode2\n",
    "    - StreetCode3\n",
    "    - VehicleExpirationDate\n",
    "    - ViolationLocation\n",
    "    - ViolationPrecinct\n",
    "    - IssuerPrecinct\n",
    "    - IssuerCode\n",
    "    - IssuerCommand\n",
    "    - IssuerSquad\n",
    "    - ViolationTime\n",
    "    - TimeFirstObserved\n",
    "    - ViolationCounty\n",
    "    - ViolationInFrontOfOrOpposite\n",
    "    - HouseNumber\n",
    "    - StreetName\n",
    "    - IntersectingStreet\n",
    "    - DateFirstObserved\n",
    "    - LawSection\n",
    "    - SubDivision\n",
    "    - ViolationLegalCode\n",
    "    - DaysParkingInEffect\n",
    "    - FromHoursInEffect\n",
    "    - ToHoursInEffect\n",
    "    - VehicleColor\n",
    "    - UnregisteredVehicle\n",
    "    - VehicleYear\n",
    "    - MeterNumber\n",
    "    - FeetFromCurb\n",
    "    - ViolationPostCode\n",
    "    - ViolationDescription\n",
    "    - NoStandingorStoppingViolation\n",
    "    - HydrantViolation\n",
    "    - DoubleParkingViolation\n",
    "    - Latitude\n",
    "    - Longitude\n",
    "    - CommunityBoard\n",
    "    - CommunityCouncil\n",
    "    - CensusTract\n",
    "    - BIN\n",
    "    - BBL\n",
    "    - NTA\n",
    "    "
   ]
  },
  {
   "cell_type": "code",
   "execution_count": 130,
   "id": "4842bdb2",
   "metadata": {},
   "outputs": [
    {
     "data": {
      "text/plain": [
       "','"
      ]
     },
     "execution_count": 130,
     "metadata": {},
     "output_type": "execute_result"
    }
   ],
   "source": [
    "#Read config file\n",
    "import testutility as util\n",
    "config_data = util.read_config_file(\"park_file.yaml\")\n",
    "\n",
    "config_data['inbound_delimiter']"
   ]
  },
  {
   "cell_type": "code",
   "execution_count": null,
   "id": "b53ecacf",
   "metadata": {},
   "outputs": [],
   "source": [
    "#inspecting data of config file\n",
    "config_data"
   ]
  },
  {
   "cell_type": "code",
   "execution_count": 56,
   "id": "22bfb786",
   "metadata": {},
   "outputs": [
    {
     "data": {
      "text/html": [
       "<div>\n",
       "<style scoped>\n",
       "    .dataframe tbody tr th:only-of-type {\n",
       "        vertical-align: middle;\n",
       "    }\n",
       "\n",
       "    .dataframe tbody tr th {\n",
       "        vertical-align: top;\n",
       "    }\n",
       "\n",
       "    .dataframe thead th {\n",
       "        text-align: right;\n",
       "    }\n",
       "</style>\n",
       "<table border=\"1\" class=\"dataframe\">\n",
       "  <thead>\n",
       "    <tr style=\"text-align: right;\">\n",
       "      <th></th>\n",
       "      <th>Summons Number</th>\n",
       "      <th>Plate ID</th>\n",
       "      <th>Registration State</th>\n",
       "      <th>Plate Type</th>\n",
       "      <th>Issue Date</th>\n",
       "      <th>Violation Code</th>\n",
       "      <th>Vehicle Body Type</th>\n",
       "      <th>Vehicle Make</th>\n",
       "      <th>Issuing Agency</th>\n",
       "      <th>Street Code1</th>\n",
       "      <th>...</th>\n",
       "      <th>Hydrant Violation</th>\n",
       "      <th>Double Parking Violation</th>\n",
       "      <th>Latitude</th>\n",
       "      <th>Longitude</th>\n",
       "      <th>Community Board</th>\n",
       "      <th>Community Council</th>\n",
       "      <th>Census Tract</th>\n",
       "      <th>BIN</th>\n",
       "      <th>BBL</th>\n",
       "      <th>NTA</th>\n",
       "    </tr>\n",
       "  </thead>\n",
       "  <tbody>\n",
       "    <tr>\n",
       "      <th>0</th>\n",
       "      <td>1363745270</td>\n",
       "      <td>GGY6450</td>\n",
       "      <td>99</td>\n",
       "      <td>PAS</td>\n",
       "      <td>07/09/2015</td>\n",
       "      <td>46</td>\n",
       "      <td>SDN</td>\n",
       "      <td>HONDA</td>\n",
       "      <td>P</td>\n",
       "      <td>0</td>\n",
       "      <td>...</td>\n",
       "      <td>NaN</td>\n",
       "      <td>NaN</td>\n",
       "      <td>NaN</td>\n",
       "      <td>NaN</td>\n",
       "      <td>NaN</td>\n",
       "      <td>NaN</td>\n",
       "      <td>NaN</td>\n",
       "      <td>NaN</td>\n",
       "      <td>NaN</td>\n",
       "      <td>NaN</td>\n",
       "    </tr>\n",
       "    <tr>\n",
       "      <th>1</th>\n",
       "      <td>1363745293</td>\n",
       "      <td>KXD355</td>\n",
       "      <td>SC</td>\n",
       "      <td>PAS</td>\n",
       "      <td>07/09/2015</td>\n",
       "      <td>21</td>\n",
       "      <td>SUBN</td>\n",
       "      <td>CHEVR</td>\n",
       "      <td>P</td>\n",
       "      <td>55730</td>\n",
       "      <td>...</td>\n",
       "      <td>NaN</td>\n",
       "      <td>NaN</td>\n",
       "      <td>NaN</td>\n",
       "      <td>NaN</td>\n",
       "      <td>NaN</td>\n",
       "      <td>NaN</td>\n",
       "      <td>NaN</td>\n",
       "      <td>NaN</td>\n",
       "      <td>NaN</td>\n",
       "      <td>NaN</td>\n",
       "    </tr>\n",
       "    <tr>\n",
       "      <th>2</th>\n",
       "      <td>1363745438</td>\n",
       "      <td>JCK7576</td>\n",
       "      <td>PA</td>\n",
       "      <td>PAS</td>\n",
       "      <td>07/09/2015</td>\n",
       "      <td>21</td>\n",
       "      <td>SDN</td>\n",
       "      <td>ME/BE</td>\n",
       "      <td>P</td>\n",
       "      <td>42730</td>\n",
       "      <td>...</td>\n",
       "      <td>NaN</td>\n",
       "      <td>NaN</td>\n",
       "      <td>NaN</td>\n",
       "      <td>NaN</td>\n",
       "      <td>NaN</td>\n",
       "      <td>NaN</td>\n",
       "      <td>NaN</td>\n",
       "      <td>NaN</td>\n",
       "      <td>NaN</td>\n",
       "      <td>NaN</td>\n",
       "    </tr>\n",
       "    <tr>\n",
       "      <th>3</th>\n",
       "      <td>1363745475</td>\n",
       "      <td>GYK7658</td>\n",
       "      <td>NY</td>\n",
       "      <td>OMS</td>\n",
       "      <td>07/09/2015</td>\n",
       "      <td>21</td>\n",
       "      <td>SUBN</td>\n",
       "      <td>NISSA</td>\n",
       "      <td>P</td>\n",
       "      <td>58130</td>\n",
       "      <td>...</td>\n",
       "      <td>NaN</td>\n",
       "      <td>NaN</td>\n",
       "      <td>NaN</td>\n",
       "      <td>NaN</td>\n",
       "      <td>NaN</td>\n",
       "      <td>NaN</td>\n",
       "      <td>NaN</td>\n",
       "      <td>NaN</td>\n",
       "      <td>NaN</td>\n",
       "      <td>NaN</td>\n",
       "    </tr>\n",
       "    <tr>\n",
       "      <th>4</th>\n",
       "      <td>1363745487</td>\n",
       "      <td>GMT8141</td>\n",
       "      <td>NY</td>\n",
       "      <td>PAS</td>\n",
       "      <td>07/09/2015</td>\n",
       "      <td>21</td>\n",
       "      <td>P-U</td>\n",
       "      <td>LINCO</td>\n",
       "      <td>P</td>\n",
       "      <td>58130</td>\n",
       "      <td>...</td>\n",
       "      <td>NaN</td>\n",
       "      <td>NaN</td>\n",
       "      <td>NaN</td>\n",
       "      <td>NaN</td>\n",
       "      <td>NaN</td>\n",
       "      <td>NaN</td>\n",
       "      <td>NaN</td>\n",
       "      <td>NaN</td>\n",
       "      <td>NaN</td>\n",
       "      <td>NaN</td>\n",
       "    </tr>\n",
       "  </tbody>\n",
       "</table>\n",
       "<p>5 rows × 51 columns</p>\n",
       "</div>"
      ],
      "text/plain": [
       "   Summons Number Plate ID Registration State Plate Type  Issue Date  \\\n",
       "0      1363745270  GGY6450                 99        PAS  07/09/2015   \n",
       "1      1363745293   KXD355                 SC        PAS  07/09/2015   \n",
       "2      1363745438  JCK7576                 PA        PAS  07/09/2015   \n",
       "3      1363745475  GYK7658                 NY        OMS  07/09/2015   \n",
       "4      1363745487  GMT8141                 NY        PAS  07/09/2015   \n",
       "\n",
       "   Violation Code Vehicle Body Type Vehicle Make Issuing Agency  Street Code1  \\\n",
       "0              46               SDN        HONDA              P             0   \n",
       "1              21              SUBN        CHEVR              P         55730   \n",
       "2              21               SDN        ME/BE              P         42730   \n",
       "3              21              SUBN        NISSA              P         58130   \n",
       "4              21               P-U        LINCO              P         58130   \n",
       "\n",
       "   ...  Hydrant Violation  Double Parking Violation  Latitude  Longitude  \\\n",
       "0  ...                NaN                       NaN       NaN        NaN   \n",
       "1  ...                NaN                       NaN       NaN        NaN   \n",
       "2  ...                NaN                       NaN       NaN        NaN   \n",
       "3  ...                NaN                       NaN       NaN        NaN   \n",
       "4  ...                NaN                       NaN       NaN        NaN   \n",
       "\n",
       "   Community Board  Community Council   Census Tract BIN  BBL NTA  \n",
       "0              NaN                 NaN           NaN NaN  NaN NaN  \n",
       "1              NaN                 NaN           NaN NaN  NaN NaN  \n",
       "2              NaN                 NaN           NaN NaN  NaN NaN  \n",
       "3              NaN                 NaN           NaN NaN  NaN NaN  \n",
       "4              NaN                 NaN           NaN NaN  NaN NaN  \n",
       "\n",
       "[5 rows x 51 columns]"
      ]
     },
     "execution_count": 56,
     "metadata": {},
     "output_type": "execute_result"
    }
   ],
   "source": [
    "#Reading using Pandas\n",
    "sample = pd.read_csv('C:/Users/yomna/week6/Parking_Violations_Year_2016.csv',delimiter=',', nrows=5)\n",
    "sample.head()"
   ]
  },
  {
   "cell_type": "code",
   "execution_count": 131,
   "id": "44a00278",
   "metadata": {
    "scrolled": false
   },
   "outputs": [
    {
     "name": "stdout",
     "output_type": "stream",
     "text": [
      "Index(['SummonsNumber', 'PlateID', 'RegistrationState', 'PlateType',\n",
      "       'IssueDate', 'ViolationCode', 'VehicleBodyType', 'VehicleMake',\n",
      "       'IssuingAgency', 'StreetCode1', 'StreetCode2', 'StreetCode3',\n",
      "       'VehicleExpirationDate', 'ViolationLocation', 'ViolationPrecinct',\n",
      "       'IssuerPrecinct', 'IssuerCode', 'IssuerCommand', 'IssuerSquad',\n",
      "       'ViolationTime', 'TimeFirstObserved', 'ViolationCounty',\n",
      "       'ViolationInFrontOfOrOpposite', 'HouseNumber', 'StreetName',\n",
      "       'IntersectingStreet', 'DateFirstObserved', 'LawSection', 'SubDivision',\n",
      "       'ViolationLegalCode', 'DaysParkingInEffect', 'FromHoursInEffect',\n",
      "       'ToHoursInEffect', 'VehicleColor', 'UnregisteredVehicle', 'VehicleYear',\n",
      "       'MeterNumber', 'FeetFromCurb', 'ViolationPostCode',\n",
      "       'ViolationDescription', 'NoStandingorStoppingViolation',\n",
      "       'HydrantViolation', 'DoubleParkingViolation', 'Latitude', 'Longitude',\n",
      "       'CommunityBoard', 'CommunityCouncil', 'CensusTract', 'BIN', 'BBL',\n",
      "       'NTA'],\n",
      "      dtype='object')\n"
     ]
    }
   ],
   "source": [
    "#Reading the file using config file\n",
    "file_type = config_data['file_type']\n",
    "source_file = \"C:/Users/yomna/week6/\" + config_data['file_name']\n",
    "delimiter = config_data['inbound_delimiter']\n",
    "\n",
    "df = pd.read_csv(source_file, sep=delimiter, nrows=5)\n",
    "\n",
    "df.columns = df.columns.str.replace('?', ' ')\n",
    "df.columns = df.columns.str.replace(' ', '')\n",
    "#df.head()\n",
    "\n",
    "print(df.columns)"
   ]
  },
  {
   "cell_type": "code",
   "execution_count": 132,
   "id": "6fcee128",
   "metadata": {},
   "outputs": [
    {
     "name": "stdout",
     "output_type": "stream",
     "text": [
      "column name and column length validation passed\n"
     ]
    },
    {
     "data": {
      "text/plain": [
       "1"
      ]
     },
     "execution_count": 132,
     "metadata": {},
     "output_type": "execute_result"
    }
   ],
   "source": [
    "#validate the header of the file\n",
    "util.col_header_val(df,config_data)"
   ]
  },
  {
   "cell_type": "code",
   "execution_count": 126,
   "id": "f5b0db7d",
   "metadata": {},
   "outputs": [
    {
     "name": "stdout",
     "output_type": "stream",
     "text": [
      "columns of files are: Index(['Summons Number', 'Plate ID', 'Registration State', 'Plate Type',\n",
      "       'Issue Date', 'Violation Code', 'Vehicle Body Type', 'Vehicle Make',\n",
      "       'Issuing Agency', 'Street Code1', 'Street Code2', 'Street Code3',\n",
      "       'Vehicle Expiration Date', 'Violation Location', 'Violation Precinct',\n",
      "       'Issuer Precinct', 'Issuer Code', 'Issuer Command', 'Issuer Squad',\n",
      "       'Violation Time', 'Time First Observed', 'Violation County',\n",
      "       'Violation In Front Of Or Opposite', 'House Number', 'Street Name',\n",
      "       'Intersecting Street', 'Date First Observed', 'Law Section',\n",
      "       'Sub Division', 'Violation Legal Code', 'Days Parking In Effect    ',\n",
      "       'From Hours In Effect', 'To Hours In Effect', 'Vehicle Color',\n",
      "       'Unregistered Vehicle?', 'Vehicle Year', 'Meter Number',\n",
      "       'Feet From Curb', 'Violation Post Code', 'Violation Description',\n",
      "       'No Standing or Stopping Violation', 'Hydrant Violation',\n",
      "       'Double Parking Violation', 'Latitude', 'Longitude', 'Community Board',\n",
      "       'Community Council ', 'Census Tract', 'BIN', 'BBL', 'NTA'],\n",
      "      dtype='object')\n",
      "columns of YAML are: ['city', 'price', 'distance', 'SummonsNumber', 'PlateID', 'RegistrationState', 'PlateType', 'IssueDate', 'ViolationCode', 'VehicleBodyType', 'VehicleMake', 'IssuingAgency', 'StreetCode1', 'StreetCode2', 'StreetCode3', 'VehicleExpirationDate', 'ViolationLocation', 'ViolationPrecinct', 'IssuerPrecinct', 'IssuerCode', 'IssuerCommand', 'IssuerSquad', 'ViolationTime', 'TimeFirstObserved', 'ViolationCounty', 'ViolationInFrontOfOrOpposite', 'HouseNumber', 'StreetName', 'IntersectingStreet', 'DateFirstObserved', 'LawSection', 'SubDivision', 'ViolationLegalCode', 'DaysParkingInEffect', 'FromHoursInEffect', 'ToHoursInEffect', 'VehicleColor', 'UnregisteredVehicle?', 'VehicleYear', 'MeterNumber', 'FeetFromCurb', 'ViolationPostCode', 'ViolationDescription', 'NoStandingorStoppingViolation', 'HydrantViolation', 'DoubleParkingViolation', 'Latitude', 'Longitude', 'CommunityBoard', 'CommunityCouncil', 'CensusTract', 'BIN', 'BBL', 'NTA']\n"
     ]
    }
   ],
   "source": [
    "print(\"columns of files are:\" ,dd_df.columns)\n",
    "print(\"columns of YAML are:\" ,config_data['columns'])"
   ]
  },
  {
   "cell_type": "code",
   "execution_count": null,
   "id": "544327ff",
   "metadata": {},
   "outputs": [],
   "source": [
    "if util.col_header_val(df,config_data)==0:\n",
    "    print(\"validation failed\")\n",
    "else:\n",
    "    print(\"col validation passed\")"
   ]
  },
  {
   "cell_type": "code",
   "execution_count": 133,
   "id": "4203103f",
   "metadata": {},
   "outputs": [],
   "source": [
    "import datetime\n",
    "import csv\n",
    "import gzip\n",
    "\n",
    "#Creating a pipe-separated in gz format\n",
    "df.to_csv('Parking_Violations_Year_2016.csvt.gz', sep='|', compression='gzip', index=False)"
   ]
  },
  {
   "cell_type": "code",
   "execution_count": null,
   "id": "78842188",
   "metadata": {},
   "outputs": [],
   "source": [
    "import os\n",
    "\n",
    "#Creating a summary file\n",
    "file_size = os.path.getsize('your_file.csv')\n",
    "num_rows = len(df_pandas)\n",
    "num_cols = len(df_pandas.columns)\n",
    "\n",
    "print(\"Total number of rows:\", num_rows)\n",
    "print(\"Total number of columns:\", num_cols)\n",
    "print(\"File size:\", file_size)"
   ]
  }
 ],
 "metadata": {
  "kernelspec": {
   "display_name": "Python 3 (ipykernel)",
   "language": "python",
   "name": "python3"
  },
  "language_info": {
   "codemirror_mode": {
    "name": "ipython",
    "version": 3
   },
   "file_extension": ".py",
   "mimetype": "text/x-python",
   "name": "python",
   "nbconvert_exporter": "python",
   "pygments_lexer": "ipython3",
   "version": "3.11.0"
  }
 },
 "nbformat": 4,
 "nbformat_minor": 5
}
